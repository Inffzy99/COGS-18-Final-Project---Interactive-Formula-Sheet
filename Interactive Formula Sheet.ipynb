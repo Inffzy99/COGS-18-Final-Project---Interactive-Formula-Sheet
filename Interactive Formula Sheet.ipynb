{
 "cells": [
  {
   "cell_type": "markdown",
   "metadata": {},
   "source": [
    "## Welcome to the Interactive Formula Sheet!\n",
    "\n",
    "### Background\n",
    "Regular formula sheets are given on exams as dictionaries of basic knowledge. However, they are often not as useful as they should be because the testers could be unaware what contents on the formula sheets are relevant to the problems at hand. \n",
    "\n",
    "The Interactive Formula Sheet is designed to help testers practice applying the formulae in advance in order to improve performance on exams. \n",
    "\n",
    "### Principle\n",
    "The Interactive Formula Sheet is a form of chatbot. It has a set of dictionaries in the background and is designed to receive instructions and inputs to perform its tasks. \n",
    "\n",
    "In addition, it makes use of the SymPy library to write a variable in terms of other variables.\n",
    "\n",
    "### Operation\n",
    "1. Call the function `launch_formula_sheet()` to start the program.\n",
    "2. When the program starts, it prompts the user for pairs of variables and values. \n",
    "<br> Using optics as example, if the user knows the wavelength of an electromagnetic wave is 600 nm and wants to know its frequency, then the input here should be `wavelength : 600e-9`.\n",
    "<br> **Note**: \n",
    "<br> 1. If the variable name has more than one words, connect the words with **underscore**. \n",
    "<br>     For example: `slit_spacing : 5`\n",
    "<br> 2. For entering multiple pairs of variables and values, separate each pair with punctuations **other than underscores, +, or -**. \n",
    "<br>     For example: `wavelength : 600e-9 ; slit_spacing : 5`\n",
    "3. After the first entry of information, the program prompts the user for a specific variable name. \n",
    "<br> This should be a variable that the user is trying to solve for. \n",
    "<br> Continuing the above optics example, the input here should be `frequency`.\n",
    "4. After the second entry of information, the program displays the variable that the user is trying to solve for as a function of other variables, using the formulae in its dictionary and applying the known values of certain variables given by the user"
   ]
  },
  {
   "cell_type": "code",
   "execution_count": 1,
   "metadata": {},
   "outputs": [],
   "source": [
    "from modules.main_functions import *\n",
    "from modules.dictionary import *"
   ]
  },
  {
   "cell_type": "code",
   "execution_count": 2,
   "metadata": {},
   "outputs": [
    {
     "name": "stdout",
     "output_type": "stream",
     "text": [
      "\n",
      "What variables do you know?\n",
      "(Format your answer as: <variable name 1> : <value 1> ; <variable name 2> : <value 2> ... )\n",
      "\n",
      "  Or you can enter one of these special commands:\n",
      "\n",
      "  list    -- see all information in the dictionary\n",
      "  pass    -- skip to next question\n",
      "  clear   -- set all values in the dictionary to none\n",
      "  restart -- start from beginning of program\n",
      "  quit    -- exit program\n",
      "\n",
      "\tquit\n",
      "\n",
      "Quitting Interactive Formula Sheet.\n"
     ]
    }
   ],
   "source": [
    "launch_formula_sheet()"
   ]
  },
  {
   "cell_type": "markdown",
   "metadata": {},
   "source": [
    "### Reflection\n",
    "Instead of having fulfilling the requirements as the goal, this project focuses on making the program function ideally. The number of functions and test functions are more than what was required. \n",
    "\n",
    "Unlike the Chatbot program in Assignment 3, which aims to give response to as many kinds of inputs as possible, this project focuses on enabling one particular functionality. \n",
    "\n",
    "The most challenging part of this project, which is also at its core, is to write some variables (in the form of string) in terms of other variables. The most difficult part of this is that it requires actively assigning values to variables. Luckily, I delved deep enough into SymPy in order to come up with the combined expression, `solve(sympify(formula), Symbol(target))` in the compute function. \n",
    "\n",
    "Overall, this project is appropriately challenging for me and extended my knowledge on Python programming.\n",
    "\n",
    "Finall, here is the Github Link of this project: "
   ]
  },
  {
   "cell_type": "markdown",
   "metadata": {},
   "source": [
    "### References\n",
    "<br>SymPy: https://docs.sympy.org/latest/modules/solvers/solvers.html\n",
    "<br>String methods: https://www.w3schools.com/python/python_ref_string.asp\n",
    "<br>Dictionary methods: https://www.w3schools.com/python/python_ref_dictionary.asp\n",
    "<br>Unicode list: https://www.ssec.wisc.edu/~tomw/java/unicode.html#x0370\n",
    "<br>PEP 8: https://www.python.org/dev/peps/pep-0008/\n",
    "<br>PEP 257: https://www.python.org/dev/peps/pep-0257/\n",
    "<br>Handling import errors: https://stackoverflow.com/questions/3131217/error-handling-when-importing-modules"
   ]
  }
 ],
 "metadata": {
  "kernelspec": {
   "display_name": "Python 3",
   "language": "python",
   "name": "python3"
  },
  "language_info": {
   "codemirror_mode": {
    "name": "ipython",
    "version": 3
   },
   "file_extension": ".py",
   "mimetype": "text/x-python",
   "name": "python",
   "nbconvert_exporter": "python",
   "pygments_lexer": "ipython3",
   "version": "3.7.5"
  }
 },
 "nbformat": 4,
 "nbformat_minor": 2
}
